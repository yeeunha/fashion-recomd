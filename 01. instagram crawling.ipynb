{
 "cells": [
  {
   "cell_type": "markdown",
   "metadata": {},
   "source": [
    "### 크롬 드라이버 다운로드 링크\n",
    "\n",
    "https://googlechromelabs.github.io/chrome-for-testing/#stable"
   ]
  },
  {
   "cell_type": "markdown",
   "metadata": {},
   "source": [
    "### 셀레니움 import"
   ]
  },
  {
   "cell_type": "code",
   "execution_count": 2,
   "metadata": {},
   "outputs": [
    {
     "name": "stdout",
     "output_type": "stream",
     "text": [
      "Collecting selenium\n",
      "  Downloading selenium-4.12.0-py3-none-any.whl (9.4 MB)\n",
      "                                              0.0/9.4 MB ? eta -:--:--\n",
      "                                              0.2/9.4 MB 6.9 MB/s eta 0:00:02\n",
      "     --                                       0.6/9.4 MB 7.7 MB/s eta 0:00:02\n",
      "     ----                                     1.0/9.4 MB 9.5 MB/s eta 0:00:01\n",
      "     ------                                   1.5/9.4 MB 9.6 MB/s eta 0:00:01\n",
      "     --------                                 1.9/9.4 MB 9.5 MB/s eta 0:00:01\n",
      "     ----------                               2.4/9.4 MB 9.4 MB/s eta 0:00:01\n",
      "     -----------                              2.8/9.4 MB 9.4 MB/s eta 0:00:01\n",
      "     -------------                            3.3/9.4 MB 9.4 MB/s eta 0:00:01\n",
      "     --------------                           3.5/9.4 MB 8.9 MB/s eta 0:00:01\n",
      "     ----------------                         3.9/9.4 MB 8.8 MB/s eta 0:00:01\n",
      "     ------------------                       4.3/9.4 MB 8.8 MB/s eta 0:00:01\n",
      "     --------------------                     4.7/9.4 MB 8.8 MB/s eta 0:00:01\n",
      "     ---------------------                    5.1/9.4 MB 9.0 MB/s eta 0:00:01\n",
      "     -----------------------                  5.4/9.4 MB 8.9 MB/s eta 0:00:01\n",
      "     -------------------------                5.9/9.4 MB 8.9 MB/s eta 0:00:01\n",
      "     ---------------------------              6.3/9.4 MB 9.0 MB/s eta 0:00:01\n",
      "     ----------------------------             6.7/9.4 MB 8.9 MB/s eta 0:00:01\n",
      "     ------------------------------           7.1/9.4 MB 8.9 MB/s eta 0:00:01\n",
      "     --------------------------------         7.5/9.4 MB 8.9 MB/s eta 0:00:01\n",
      "     ----------------------------------       8.0/9.4 MB 8.9 MB/s eta 0:00:01\n",
      "     -----------------------------------      8.4/9.4 MB 8.9 MB/s eta 0:00:01\n",
      "     -------------------------------------    8.8/9.4 MB 9.0 MB/s eta 0:00:01\n",
      "     ---------------------------------------  9.3/9.4 MB 9.0 MB/s eta 0:00:01\n",
      "     ---------------------------------------- 9.4/9.4 MB 8.8 MB/s eta 0:00:00\n",
      "Requirement already satisfied: urllib3[socks]<3,>=1.26 in c:\\users\\neverland\\appdata\\local\\programs\\python\\python311\\lib\\site-packages (from selenium) (2.0.4)\n",
      "Collecting trio~=0.17 (from selenium)\n",
      "  Using cached trio-0.22.2-py3-none-any.whl (400 kB)\n",
      "Collecting trio-websocket~=0.9 (from selenium)\n",
      "  Downloading trio_websocket-0.10.4-py3-none-any.whl (17 kB)\n",
      "Requirement already satisfied: certifi>=2021.10.8 in c:\\users\\neverland\\appdata\\local\\programs\\python\\python311\\lib\\site-packages (from selenium) (2023.7.22)\n",
      "Requirement already satisfied: attrs>=20.1.0 in c:\\users\\neverland\\appdata\\local\\programs\\python\\python311\\lib\\site-packages (from trio~=0.17->selenium) (23.1.0)\n",
      "Collecting sortedcontainers (from trio~=0.17->selenium)\n",
      "  Using cached sortedcontainers-2.4.0-py2.py3-none-any.whl (29 kB)\n",
      "Requirement already satisfied: idna in c:\\users\\neverland\\appdata\\local\\programs\\python\\python311\\lib\\site-packages (from trio~=0.17->selenium) (3.4)\n",
      "Collecting outcome (from trio~=0.17->selenium)\n",
      "  Using cached outcome-1.2.0-py2.py3-none-any.whl (9.7 kB)\n",
      "Requirement already satisfied: sniffio in c:\\users\\neverland\\appdata\\local\\programs\\python\\python311\\lib\\site-packages (from trio~=0.17->selenium) (1.3.0)\n",
      "Requirement already satisfied: cffi>=1.14 in c:\\users\\neverland\\appdata\\local\\programs\\python\\python311\\lib\\site-packages (from trio~=0.17->selenium) (1.15.1)\n",
      "Collecting exceptiongroup (from trio-websocket~=0.9->selenium)\n",
      "  Downloading exceptiongroup-1.1.3-py3-none-any.whl (14 kB)\n",
      "Collecting wsproto>=0.14 (from trio-websocket~=0.9->selenium)\n",
      "  Using cached wsproto-1.2.0-py3-none-any.whl (24 kB)\n",
      "Collecting pysocks!=1.5.7,<2.0,>=1.5.6 (from urllib3[socks]<3,>=1.26->selenium)\n",
      "  Using cached PySocks-1.7.1-py3-none-any.whl (16 kB)\n",
      "Requirement already satisfied: pycparser in c:\\users\\neverland\\appdata\\local\\programs\\python\\python311\\lib\\site-packages (from cffi>=1.14->trio~=0.17->selenium) (2.21)\n",
      "Collecting h11<1,>=0.9.0 (from wsproto>=0.14->trio-websocket~=0.9->selenium)\n",
      "  Using cached h11-0.14.0-py3-none-any.whl (58 kB)\n",
      "Installing collected packages: sortedcontainers, pysocks, outcome, h11, exceptiongroup, wsproto, trio, trio-websocket, selenium\n",
      "Successfully installed exceptiongroup-1.1.3 h11-0.14.0 outcome-1.2.0 pysocks-1.7.1 selenium-4.12.0 sortedcontainers-2.4.0 trio-0.22.2 trio-websocket-0.10.4 wsproto-1.2.0\n"
     ]
    },
    {
     "name": "stderr",
     "output_type": "stream",
     "text": [
      "\n",
      "[notice] A new release of pip is available: 23.1.2 -> 23.2.1\n",
      "[notice] To update, run: python.exe -m pip install --upgrade pip\n"
     ]
    }
   ],
   "source": [
    "!pip install selenium"
   ]
  },
  {
   "cell_type": "code",
   "execution_count": 3,
   "metadata": {},
   "outputs": [
    {
     "data": {
      "text/plain": [
       "'4.12.0'"
      ]
     },
     "execution_count": 3,
     "metadata": {},
     "output_type": "execute_result"
    }
   ],
   "source": [
    "import selenium\n",
    "selenium.__version__"
   ]
  },
  {
   "cell_type": "code",
   "execution_count": 8,
   "metadata": {},
   "outputs": [],
   "source": [
    "#패키지 임포트\n",
    "from selenium import webdriver\n",
    "from selenium.webdriver.edge.service import Service\n",
    "from selenium.webdriver.edge.options import Options\n",
    "from bs4 import BeautifulSoup\n",
    "user_agent = 'Mozilla/5.0 (Windows NT 10.0; Win64; x64) AppleWebKit/537.36 (KHTML, like Gecko) Chrome/114.0.0.0 Safari/537.36 Edg/114.0.1823.58'\n",
    "edge_service = Service('C:/Users/Neverland/Downloads/edgedriver_win64/msedgedriver.exe')\n",
    "#webdriver.Edge('C:/Users/Neverland/Downloads/edgedriver_win64/msedgedriver.exe')"
   ]
  },
  {
   "cell_type": "code",
   "execution_count": 19,
   "metadata": {},
   "outputs": [
    {
     "name": "stderr",
     "output_type": "stream",
     "text": [
      "C:\\Users\\Neverland\\AppData\\Local\\Temp\\ipykernel_6180\\2304404035.py:15: DeprecationWarning: headless property is deprecated, instead use add_argument('--headless') or add_argument('--headless=new')\n",
      "  chrome_options.headless = False  # 창을 띄우려면 False로 설정하세요.\n"
     ]
    }
   ],
   "source": [
    "from selenium import webdriver\n",
    "from selenium.webdriver.chrome.service import Service\n",
    "from selenium.webdriver.chrome.options import Options\n",
    "from bs4 import BeautifulSoup\n",
    "\n",
    "# Chrome 드라이버 경로 설정\n",
    "chrome_driver_path = 'C:/Users/Neverland/Downloads/chromedriver-win64/chromedriver-win64/chromedriver.exe' # 크롬 드라이버 경로 설정\n",
    "\n",
    "chrome_service = Service(chrome_driver_path)\n",
    "\n",
    "chrome_options = Options()\n",
    "chrome_options.headless = False\n",
    "\n",
    "# WebDriver 초기화\n",
    "driver = webdriver.Chrome(service=chrome_service, options=chrome_options)\n",
    "\n",
    "url = 'https://www.instagram.com/'\n",
    "driver.get(url)\n",
    "html = driver.page_source\n",
    "\n",
    "soup = BeautifulSoup(html, 'html.parser')\n"
   ]
  },
  {
   "cell_type": "markdown",
   "metadata": {},
   "source": [
    "### 인스타 로그인"
   ]
  },
  {
   "cell_type": "code",
   "execution_count": 20,
   "metadata": {},
   "outputs": [],
   "source": [
    "#id로 요소 찾기\n",
    "from selenium import webdriver\n",
    "from selenium.webdriver.common.keys import Keys\n",
    "from selenium.webdriver.common.by import By\n",
    "from selenium.webdriver.support.ui import WebDriverWait\n",
    "from selenium.webdriver.support import expected_conditions as EC\n",
    "import time\n",
    "\n",
    "username = '아이디'\n",
    "password = '비밀번호'\n",
    "\n",
    "#요소 찾아서 키 보내기\n",
    "username_input = WebDriverWait(driver, 10).until(\n",
    "    EC.presence_of_element_located((By.NAME, 'username'))\n",
    ")\n",
    "username_input.send_keys(username)\n",
    "\n",
    "password_input = WebDriverWait(driver, 10).until(\n",
    "    EC.presence_of_element_located((By.NAME, 'password'))\n",
    ")\n",
    "password_input.send_keys(password)"
   ]
  },
  {
   "cell_type": "code",
   "execution_count": 5,
   "metadata": {},
   "outputs": [],
   "source": [
    "password_input.send_keys(Keys.RETURN)"
   ]
  },
  {
   "cell_type": "markdown",
   "metadata": {},
   "source": [
    "### 원하는 쇼핑몰 크롤링해서 저장해보기"
   ]
  },
  {
   "cell_type": "code",
   "execution_count": 26,
   "metadata": {},
   "outputs": [
    {
     "name": "stdout",
     "output_type": "stream",
     "text": [
      "Requirement already satisfied: requests in c:\\users\\neverland\\anaconda3\\lib\\site-packages (2.28.1)\n",
      "Requirement already satisfied: charset-normalizer<3,>=2 in c:\\users\\neverland\\anaconda3\\lib\\site-packages (from requests) (2.0.4)\n",
      "Requirement already satisfied: urllib3<1.27,>=1.21.1 in c:\\users\\neverland\\anaconda3\\lib\\site-packages (from requests) (1.26.11)\n",
      "Requirement already satisfied: idna<4,>=2.5 in c:\\users\\neverland\\anaconda3\\lib\\site-packages (from requests) (3.3)\n",
      "Requirement already satisfied: certifi>=2017.4.17 in c:\\users\\neverland\\anaconda3\\lib\\site-packages (from requests) (2022.9.14)\n",
      "Could not fetch URL https://pypi.org/simple/pip/: There was a problem confirming the ssl certificate: HTTPSConnectionPool(host='pypi.org', port=443): Max retries exceeded with url: /simple/pip/ (Caused by SSLError(\"Can't connect to HTTPS URL because the SSL module is not available.\")) - skipping\n"
     ]
    },
    {
     "name": "stderr",
     "output_type": "stream",
     "text": [
      "WARNING: pip is configured with locations that require TLS/SSL, however the ssl module in Python is not available.\n",
      "WARNING: pip is configured with locations that require TLS/SSL, however the ssl module in Python is not available.\n",
      "WARNING: There was an error checking the latest version of pip.\n"
     ]
    }
   ],
   "source": [
    "!pip install requests"
   ]
  },
  {
   "cell_type": "code",
   "execution_count": 16,
   "metadata": {},
   "outputs": [],
   "source": [
    "import os \n",
    "\n",
    "instagram_account_url = 'https://www.instagram.com/mimimond_'\n",
    "\n",
    "# 원하는 쇼핑몰 인스타 계정으로 이동\n",
    "driver.get(instagram_account_url)\n",
    "\n",
    "# 사진을 저장할 디렉토리를 생성\n",
    "image_folder = 'image/클래식/미미몬트'\n",
    "if not os.path.exists(image_folder):\n",
    "    os.makedirs(image_folder)\n",
    "\n"
   ]
  },
  {
   "cell_type": "code",
   "execution_count": 15,
   "metadata": {},
   "outputs": [],
   "source": [
    "import requests\n",
    "\n",
    "# 이미지 URL을 수집\n",
    "num_images = 30\n",
    "image_links = set()\n",
    "\n",
    "while len(image_links) < num_images:\n",
    "    images = WebDriverWait(driver, 10).until(\n",
    "        EC.presence_of_all_elements_located((By.CSS_SELECTOR, \"img[style='object-fit: cover;']\"))\n",
    "    )\n",
    "    for image in images:\n",
    "        if len(image_links) >= num_images:\n",
    "            break\n",
    "        image_url = image.get_attribute('src')\n",
    "        if image_url not in image_links:\n",
    "            image_links.add(image_url)\n",
    "    last_image = images[-1]\n",
    "    driver.execute_script('arguments[0].scrollIntoView();', last_image)\n",
    "    time.sleep(2)\n",
    "\n",
    "# 이미지를 저장\n",
    "if not os.path.exists(image_folder):\n",
    "    os.makedirs(image_folder)\n",
    "\n",
    "for idx, image_url in enumerate(image_links):\n",
    "    response = requests.get(image_url)\n",
    "    with open(f'{image_folder}/image_{idx}.jpg', 'wb') as f:\n",
    "        f.write(response.content)"
   ]
  },
  {
   "cell_type": "code",
   "execution_count": null,
   "metadata": {},
   "outputs": [],
   "source": []
  }
 ],
 "metadata": {
  "kernelspec": {
   "display_name": "Python 3",
   "language": "python",
   "name": "python3"
  },
  "language_info": {
   "codemirror_mode": {
    "name": "ipython",
    "version": 3
   },
   "file_extension": ".py",
   "mimetype": "text/x-python",
   "name": "python",
   "nbconvert_exporter": "python",
   "pygments_lexer": "ipython3",
   "version": "3.11.4"
  },
  "orig_nbformat": 4
 },
 "nbformat": 4,
 "nbformat_minor": 2
}
